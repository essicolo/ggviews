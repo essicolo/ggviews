{
 "cells": [
  {
   "cell_type": "markdown",
   "metadata": {},
   "source": [
    "# ggviews Demo: A ggplot2-style API for holoviews\n",
    "\n",
    "This notebook demonstrates the core functionality of ggviews, a Python library that brings the grammar of graphics from R's ggplot2 to holoviews.\n",
    "\n",
    "## Installation\n",
    "\n",
    "```bash\n",
    "pip install -e .\n",
    "```"
   ]
  },
  {
   "cell_type": "code",
   "execution_count": null,
   "metadata": {},
   "outputs": [],
   "source": [
    "# Import required libraries\n",
    "import pandas as pd\n",
    "import numpy as np\n",
    "import holoviews as hv\n",
    "\n",
    "# Import ggviews\n",
    "from ggviews import ggplot, aes\n",
    "\n",
    "# Set up holoviews\n",
    "hv.extension('bokeh')  # or 'matplotlib'\n",
    "\n",
    "# Set random seed for reproducibility\n",
    "np.random.seed(42)\n",
    "\n",
    "print(\"ggviews loaded successfully!\")"
   ]
  },
  {
   "cell_type": "markdown",
   "metadata": {},
   "source": [
    "## Create Sample Data\n",
    "\n",
    "Let's create some sample data to work with:"
   ]
  },
  {
   "cell_type": "code",
   "execution_count": null,
   "metadata": {},
   "outputs": [],
   "source": [
    "# Create sample dataset\n",
    "n = 150\n",
    "df = pd.DataFrame({\n",
    "    'height': np.random.normal(170, 10, n),\n",
    "    'weight': np.random.normal(70, 15, n),\n",
    "    'species': np.random.choice(['setosa', 'versicolor', 'virginica'], n),\n",
    "    'age': np.random.randint(18, 80, n),\n",
    "    'group': np.random.choice(['A', 'B'], n)\n",
    "})\n",
    "\n",
    "# Add some correlation\n",
    "df['weight'] = df['weight'] + 0.5 * (df['height'] - 170) + np.random.normal(0, 5, n)\n",
    "\n",
    "print(\"Sample data:\")\n",
    "print(df.head(10))\n",
    "print(f\"\\nData shape: {df.shape}\")\n",
    "print(f\"Species counts: {df['species'].value_counts().to_dict()}\")"
   ]
  },
  {
   "cell_type": "markdown",
   "metadata": {},
   "source": [
    "## Basic Plots\n",
    "\n",
    "### 1. Simple Scatter Plot"
   ]
  },
  {
   "cell_type": "code",
   "execution_count": null,
   "metadata": {},
   "outputs": [],
   "source": [
    "# Basic scatter plot using + operator\n",
    "from ggviews.geoms import geom_point\n",
    "\n",
    "plot1 = ggplot(df, aes(x='height', y='weight')) + geom_point()\n",
    "plot1.show()"
   ]
  },
  {
   "cell_type": "markdown",
   "metadata": {},
   "source": [
    "### 2. Method Chaining Syntax"
   ]
  },
  {
   "cell_type": "code",
   "execution_count": null,
   "metadata": {},
   "outputs": [],
   "source": [
    "# Same plot using method chaining (ggplot2 style)\n",
    "plot2 = (\n",
    "    ggplot(df, aes(x='height', y='weight'))\n",
    "    .geom_point(size=6, alpha=0.7)\n",
    "    .labs(title='Height vs Weight', x='Height (cm)', y='Weight (kg)')\n",
    "    .theme_minimal()\n",
    ")\n",
    "\n",
    "plot2"
   ]
  },
  {
   "cell_type": "markdown",
   "metadata": {},
   "source": [
    "### 3. Colored by Category"
   ]
  },
  {
   "cell_type": "code",
   "execution_count": null,
   "metadata": {},
   "outputs": [],
   "source": [
    "# Color points by species\n",
    "plot3 = (\n",
    "    ggplot(df, aes(x='height', y='weight', color='species'))\n",
    "    .geom_point(size=8, alpha=0.8)\n",
    "    .theme_classic()\n",
    "    .labs(\n",
    "        title='Height vs Weight by Species',\n",
    "        x='Height (cm)', \n",
    "        y='Weight (kg)',\n",
    "        color='Species'\n",
    "    )\n",
    ")\n",
    "\n",
    "plot3"
   ]
  },
  {
   "cell_type": "markdown",
   "metadata": {},
   "source": [
    "### 4. Custom Colors"
   ]
  },
  {
   "cell_type": "code",
   "execution_count": null,
   "metadata": {},
   "outputs": [],
   "source": [
    "# Use custom color palette\n",
    "plot4 = (\n",
    "    ggplot(df, aes(x='height', y='weight', color='species'))\n",
    "    .geom_point(size=8, alpha=0.8)\n",
    "    .scale_color_manual(values=['#FF6B6B', '#4ECDC4', '#45B7D1'])\n",
    "    .theme_minimal()\n",
    "    .labs(title='Custom Color Palette')\n",
    ")\n",
    "\n",
    "plot4"
   ]
  },
  {
   "cell_type": "markdown",
   "metadata": {},
   "source": [
    "## Statistical Layers\n",
    "\n",
    "### 5. Scatter Plot with Smoothing"
   ]
  },
  {
   "cell_type": "code",
   "execution_count": null,
   "metadata": {},
   "outputs": [],
   "source": [
    "# Add smoothing line\n",
    "plot5 = (\n",
    "    ggplot(df, aes(x='height', y='weight'))\n",
    "    .geom_point(aes(color='species'), alpha=0.6, size=6)\n",
    "    .geom_smooth(method='lm', color='black', alpha=0.3)\n",
    "    .theme_bw()\n",
    "    .labs(title='Height vs Weight with Linear Trend')\n",
    ")\n",
    "\n",
    "plot5"
   ]
  },
  {
   "cell_type": "markdown",
   "metadata": {},
   "source": [
    "### 6. Box Plots"
   ]
  },
  {
   "cell_type": "code",
   "execution_count": null,
   "metadata": {},
   "outputs": [],
   "source": [
    "# Box plot by species\n",
    "plot6 = (\n",
    "    ggplot(df, aes(x='species', y='weight'))\n",
    "    .geom_boxplot(alpha=0.7, fill='lightblue')\n",
    "    .theme_classic()\n",
    "    .labs(\n",
    "        title='Weight Distribution by Species',\n",
    "        x='Species',\n",
    "        y='Weight (kg)'\n",
    "    )\n",
    ")\n",
    "\n",
    "plot6"
   ]
  },
  {
   "cell_type": "markdown",
   "metadata": {},
   "source": [
    "### 7. Histograms"
   ]
  },
  {
   "cell_type": "code",
   "execution_count": null,
   "metadata": {},
   "outputs": [],
   "source": [
    "# Histogram of heights\n",
    "plot7 = (\n",
    "    ggplot(df, aes(x='height'))\n",
    "    .geom_histogram(bins=20, fill='steelblue', alpha=0.7)\n",
    "    .theme_minimal()\n",
    "    .labs(\n",
    "        title='Distribution of Heights',\n",
    "        x='Height (cm)',\n",
    "        y='Count'\n",
    "    )\n",
    ")\n",
    "\n",
    "plot7"
   ]
  },
  {
   "cell_type": "markdown",
   "metadata": {},
   "source": [
    "### 8. Bar Charts"
   ]
  },
  {
   "cell_type": "code",
   "execution_count": null,
   "metadata": {},
   "outputs": [],
   "source": [
    "# Bar chart of species counts\n",
    "plot8 = (\n",
    "    ggplot(df, aes(x='species'))\n",
    "    .geom_bar(stat='count', fill='coral', alpha=0.8)\n",
    "    .theme_classic()\n",
    "    .labs(\n",
    "        title='Species Count',\n",
    "        x='Species',\n",
    "        y='Count'\n",
    "    )\n",
    ")\n",
    "\n",
    "plot8"
   ]
  },
  {
   "cell_type": "markdown",
   "metadata": {},
   "source": [
    "## Faceting\n",
    "\n",
    "### 9. Facet Wrap"
   ]
  },
  {
   "cell_type": "code",
   "execution_count": null,
   "metadata": {},
   "outputs": [],
   "source": [
    "# Facet by species\n",
    "plot9 = (\n",
    "    ggplot(df, aes(x='height', y='weight'))\n",
    "    .geom_point(alpha=0.7, size=4)\n",
    "    .facet_wrap('~species')\n",
    "    .theme_minimal()\n",
    "    .labs(title='Height vs Weight by Species (Faceted)')\n",
    ")\n",
    "\n",
    "plot9"
   ]
  },
  {
   "cell_type": "markdown",
   "metadata": {},
   "source": [
    "### 10. Facet Grid"
   ]
  },
  {
   "cell_type": "code",
   "execution_count": null,
   "metadata": {},
   "outputs": [],
   "source": [
    "# Facet grid: group by species and group\n",
    "plot10 = (\n",
    "    ggplot(df, aes(x='height', y='weight'))\n",
    "    .geom_point(aes(color='age'), alpha=0.7, size=5)\n",
    "    .facet_grid('group ~ species')\n",
    "    .theme_bw()\n",
    "    .labs(title='Height vs Weight: Group x Species Grid')\n",
    ")\n",
    "\n",
    "plot10"
   ]
  },
  {
   "cell_type": "markdown",
   "metadata": {},
   "source": [
    "## Advanced Features\n",
    "\n",
    "### 11. Multiple Aesthetics"
   ]
  },
  {
   "cell_type": "code",
   "execution_count": null,
   "metadata": {},
   "outputs": [],
   "source": [
    "# Multiple aesthetic mappings\n",
    "plot11 = (\n",
    "    ggplot(df, aes(x='height', y='weight', color='species', size='age'))\n",
    "    .geom_point(alpha=0.7)\n",
    "    .theme_minimal()\n",
    "    .labs(\n",
    "        title='Multiple Aesthetics',\n",
    "        subtitle='Color by species, size by age',\n",
    "        x='Height (cm)',\n",
    "        y='Weight (kg)',\n",
    "        color='Species',\n",
    "        size='Age'\n",
    "    )\n",
    ")\n",
    "\n",
    "plot11"
   ]
  },
  {
   "cell_type": "markdown",
   "metadata": {},
   "source": [
    "### 12. Different Themes"
   ]
  },
  {
   "cell_type": "code",
   "execution_count": null,
   "metadata": {},
   "outputs": [],
   "source": [
    "# Showcase different themes\n",
    "base_plot = ggplot(df, aes(x='height', y='weight', color='species')).geom_point(size=6, alpha=0.8)\n",
    "\n",
    "# Theme minimal\n",
    "theme_min = base_plot.theme_minimal().labs(title='theme_minimal()')\n",
    "\n",
    "# Theme classic  \n",
    "theme_cls = base_plot.theme_classic().labs(title='theme_classic()')\n",
    "\n",
    "# Theme dark\n",
    "theme_drk = base_plot.theme_dark().labs(title='theme_dark()')\n",
    "\n",
    "print(\"Different themes:\")\n",
    "print(\"1. Minimal theme:\")\n",
    "theme_min"
   ]
  },
  {
   "cell_type": "code",
   "execution_count": null,
   "metadata": {},
   "outputs": [],
   "source": [
    "print(\"2. Classic theme:\")\n",
    "theme_cls"
   ]
  },
  {
   "cell_type": "code",
   "execution_count": null,
   "metadata": {},
   "outputs": [],
   "source": [
    "print(\"3. Dark theme:\")\n",
    "theme_drk"
   ]
  },
  {
   "cell_type": "markdown",
   "metadata": {},
   "source": [
    "## Time Series Example\n",
    "\n",
    "### 13. Line Plot"
   ]
  },
  {
   "cell_type": "code",
   "execution_count": null,
   "metadata": {},
   "outputs": [],
   "source": [
    "# Create time series data\n",
    "dates = pd.date_range('2023-01-01', periods=100, freq='D')\n",
    "ts_data = pd.DataFrame({\n",
    "    'date': dates,\n",
    "    'value': np.cumsum(np.random.randn(100)) + np.sin(np.arange(100) * 0.1) * 10,\n",
    "    'category': np.tile(['A', 'B'], 50)\n",
    "})\n",
    "\n",
    "# Add numeric date for plotting\n",
    "ts_data['day_num'] = range(100)\n",
    "\n",
    "plot13 = (\n",
    "    ggplot(ts_data, aes(x='day_num', y='value', color='category'))\n",
    "    .geom_line(size=2)\n",
    "    .geom_point(size=3, alpha=0.6)\n",
    "    .theme_minimal()\n",
    "    .labs(\n",
    "        title='Time Series Example',\n",
    "        x='Day',\n",
    "        y='Value',\n",
    "        color='Category'\n",
    "    )\n",
    ")\n",
    "\n",
    "plot13"
   ]
  },
  {
   "cell_type": "markdown",
   "metadata": {},
   "source": [
    "## Summary\n",
    "\n",
    "This notebook demonstrated the core features of ggviews:\n",
    "\n",
    "✅ **Grammar of Graphics**: Layered approach to building plots\n",
    "\n",
    "✅ **Method Chaining**: Fluent API like ggplot2 in R\n",
    "\n",
    "✅ **Multiple Geoms**: Points, lines, bars, histograms, box plots\n",
    "\n",
    "✅ **Aesthetic Mappings**: Map data to visual properties (x, y, color, size)\n",
    "\n",
    "✅ **Themes**: Multiple built-in themes (minimal, classic, dark, bw)\n",
    "\n",
    "✅ **Scales**: Control color mappings and axis properties\n",
    "\n",
    "✅ **Faceting**: Create subplots with facet_wrap and facet_grid\n",
    "\n",
    "✅ **Statistical Layers**: Add trend lines and statistical summaries\n",
    "\n",
    "✅ **Customization**: Labels, limits, colors, and more\n",
    "\n",
    "ggviews brings the beloved ggplot2 syntax to Python with the power of holoviews!"
   ]
  },
  {
   "cell_type": "markdown",
   "metadata": {},
   "source": [
    "## Next Steps\n",
    "\n",
    "To continue exploring ggviews:\n",
    "\n",
    "1. Check out the `examples/` folder for more examples\n",
    "2. Read the documentation (coming soon!)\n",
    "3. Try creating your own plots with your data\n",
    "4. Contribute to the project on GitHub\n",
    "\n",
    "Happy plotting! 📊✨"
   ]
  }
 ],
 "metadata": {
  "kernelspec": {
   "display_name": "Python 3",
   "language": "python",
   "name": "python3"
  },
  "language_info": {
   "codemirror_mode": {
    "name": "ipython",
    "version": 3
   },
   "file_extension": ".py",
   "mimetype": "text/x-python",
   "name": "python",
   "nbconvert_exporter": "python",
   "pygments_lexer": "ipython3",
   "version": "3.8.5"
  }
 },
 "nbformat": 4,
 "nbformat_minor": 4
}