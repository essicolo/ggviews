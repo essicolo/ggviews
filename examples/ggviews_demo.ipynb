{
 "cells": [
  {
   "cell_type": "markdown",
   "metadata": {},
   "source": [
    "# ggviews Demo: A ggplot2-style API for holoviews\n",
    "\n",
    "This notebook demonstrates the core functionality of ggviews, a Python library that brings the grammar of graphics from R's ggplot2 to holoviews.\n",
    "\n",
    "## Requirements\n",
    "\n",
    "Make sure you have installed ggviews and its dependencies:\n",
    "\n",
    "```bash\n",
    "pip install -e .\n",
    "```"
   ]
  },
  {
   "cell_type": "code",
   "execution_count": null,
   "metadata": {},
   "outputs": [],
   "source": [
    "# Import required libraries\n",
    "import pandas as pd\n",
    "import numpy as np\n",
    "import holoviews as hv\n",
    "\n",
    "# Set up holoviews for Jupyter\n",
    "hv.extension('bokeh')  # Use 'matplotlib' if you prefer static plots\n",
    "\n",
    "print(\"Libraries loaded successfully!\")"
   ]
  },
  {
   "cell_type": "code",
   "execution_count": null,
   "metadata": {},
   "outputs": [],
   "source": [
    "# Import ggviews - test imports first\n",
    "try:\n",
    "    from ggviews import ggplot, aes\n",
    "    from ggviews.geoms import geom_point, geom_line, geom_bar, geom_area\n",
    "    from ggviews.themes import theme_minimal, theme_classic\n",
    "    from ggviews.viridis import scale_colour_viridis_d\n",
    "    from ggviews.facets import facet_wrap\n",
    "    from ggviews.coords import coord_fixed\n",
    "    print(\"✅ ggviews imported successfully!\")\n",
    "except ImportError as e:\n",
    "    print(f\"❌ Import error: {e}\")\n",
    "    print(\"Please make sure ggviews is installed: pip install -e .\")"
   ]
  },
  {
   "cell_type": "markdown",
   "metadata": {},
   "source": [
    "## Create Sample Data\n",
    "\n",
    "Let's create some sample data to work with:"
   ]
  },
  {
   "cell_type": "code",
   "execution_count": null,
   "metadata": {},
   "outputs": [],
   "source": [
    "# Create sample dataset\n",
    "np.random.seed(42)\n",
    "n = 100\n",
    "\n",
    "df = pd.DataFrame({\n",
    "    'height': np.random.normal(170, 10, n),\n",
    "    'weight': np.random.normal(70, 15, n),\n",
    "    'species': np.random.choice(['setosa', 'versicolor', 'virginica'], n),\n",
    "    'age': np.random.randint(18, 80, n),\n",
    "    'group': np.random.choice(['A', 'B'], n)\n",
    "})\n",
    "\n",
    "# Add some correlation\n",
    "df['weight'] = df['weight'] + 0.5 * (df['height'] - 170) + np.random.normal(0, 5, n)\n",
    "\n",
    "print(\"Sample data created:\")\n",
    "print(df.head(10))\n",
    "print(f\"\\nData shape: {df.shape}\")\n",
    "print(f\"Species counts: {df['species'].value_counts().to_dict()}\")"
   ]
  },
  {
   "cell_type": "markdown",
   "metadata": {},
   "source": [
    "## Basic Plots\n",
    "\n",
    "### 1. Simple Scatter Plot"
   ]
  },
  {
   "cell_type": "code",
   "execution_count": null,
   "metadata": {},
   "outputs": [],
   "source": [
    "# Basic scatter plot\n",
    "plot1 = ggplot(df, aes(x='height', y='weight')) + geom_point()\n",
    "plot1"
   ]
  },
  {
   "cell_type": "markdown",
   "metadata": {},
   "source": [
    "### 2. Method Chaining Syntax"
   ]
  },
  {
   "cell_type": "code",
   "execution_count": null,
   "metadata": {},
   "outputs": [],
   "source": [
    "# Method chaining (preferred ggviews style)\n",
    "plot2 = (\n",
    "    ggplot(df, aes(x='height', y='weight'))\n",
    "    .geom_point(size=6, alpha=0.7)\n",
    "    .theme_minimal()\n",
    "    .labs(title='Height vs Weight', x='Height (cm)', y='Weight (kg)')\n",
    ")\n",
    "\n",
    "plot2"
   ]
  },
  {
   "cell_type": "markdown",
   "metadata": {},
   "source": [
    "### 3. Colored by Category"
   ]
  },
  {
   "cell_type": "code",
   "execution_count": null,
   "metadata": {},
   "outputs": [],
   "source": [
    "# Color points by species\n",
    "plot3 = (\n",
    "    ggplot(df, aes(x='height', y='weight', color='species'))\n",
    "    .geom_point(size=8, alpha=0.8)\n",
    "    .theme_classic()\n",
    "    .labs(\n",
    "        title='Height vs Weight by Species',\n",
    "        x='Height (cm)', \n",
    "        y='Weight (kg)',\n",
    "        color='Species'\n",
    "    )\n",
    ")\n",
    "\n",
    "plot3"
   ]
  },
  {
   "cell_type": "markdown",
   "metadata": {},
   "source": [
    "### 4. Viridis Color Scale"
   ]
  },
  {
   "cell_type": "code",
   "execution_count": null,
   "metadata": {},
   "outputs": [],
   "source": [
    "# Use viridis color palette\n",
    "plot4 = (\n",
    "    ggplot(df, aes(x='height', y='weight', color='species'))\n",
    "    .geom_point(size=8, alpha=0.8)\n",
    "    .scale_colour_viridis_d()\n",
    "    .theme_minimal()\n",
    "    .labs(title='Viridis Color Palette')\n",
    ")\n",
    "\n",
    "plot4"
   ]
  },
  {
   "cell_type": "markdown",
   "metadata": {},
   "source": [
    "## Advanced Features\n",
    "\n",
    "### 5. Line Plot with Smoothing"
   ]
  },
  {
   "cell_type": "code",
   "execution_count": null,
   "metadata": {},
   "outputs": [],
   "source": [
    "# Create time series data\n",
    "time_df = pd.DataFrame({\n",
    "    'time': range(30),\n",
    "    'value': np.cumsum(np.random.randn(30)) + np.sin(np.arange(30) * 0.2) * 5,\n",
    "    'group': np.tile(['A', 'B'], 15)\n",
    "})\n",
    "\n",
    "plot5 = (\n",
    "    ggplot(time_df, aes(x='time', y='value', color='group'))\n",
    "    .geom_line(size=2)\n",
    "    .geom_smooth(method='lm', se=False)\n",
    "    .theme_minimal()\n",
    "    .labs(title='Time Series with Trend Lines')\n",
    ")\n",
    "\n",
    "plot5"
   ]
  },
  {
   "cell_type": "markdown",
   "metadata": {},
   "source": [
    "### 6. Bar Charts"
   ]
  },
  {
   "cell_type": "code",
   "execution_count": null,
   "metadata": {},
   "outputs": [],
   "source": [
    "# Bar chart of species counts\n",
    "species_counts = df['species'].value_counts().reset_index()\n",
    "species_counts.columns = ['species', 'count']\n",
    "\n",
    "plot6 = (\n",
    "    ggplot(species_counts, aes(x='species', y='count'))\n",
    "    .geom_bar(stat='identity', fill='steelblue', alpha=0.7)\n",
    "    .theme_minimal()\n",
    "    .labs(\n",
    "        title='Species Count',\n",
    "        x='Species',\n",
    "        y='Count'\n",
    "    )\n",
    ")\n",
    "\n",
    "plot6"
   ]
  },
  {
   "cell_type": "markdown",
   "metadata": {},
   "source": [
    "### 7. Histograms"
   ]
  },
  {
   "cell_type": "code",
   "execution_count": null,
   "metadata": {},
   "outputs": [],
   "source": [
    "# Histogram of heights\n",
    "plot7 = (\n",
    "    ggplot(df, aes(x='height'))\n",
    "    .geom_histogram(bins=15, fill='lightcoral', alpha=0.7)\n",
    "    .theme_minimal()\n",
    "    .labs(\n",
    "        title='Distribution of Heights',\n",
    "        x='Height (cm)',\n",
    "        y='Count'\n",
    "    )\n",
    ")\n",
    "\n",
    "plot7"
   ]
  },
  {
   "cell_type": "markdown",
   "metadata": {},
   "source": [
    "### 8. Faceted Plots"
   ]
  },
  {
   "cell_type": "code",
   "execution_count": null,
   "metadata": {},
   "outputs": [],
   "source": [
    "# Facet by species\n",
    "plot8 = (\n",
    "    ggplot(df, aes(x='height', y='weight'))\n",
    "    .geom_point(alpha=0.7, size=4)\n",
    "    .facet_wrap('~species')\n",
    "    .theme_minimal()\n",
    "    .labs(title='Height vs Weight by Species (Faceted)')\n",
    ")\n",
    "\n",
    "plot8"
   ]
  },
  {
   "cell_type": "markdown",
   "metadata": {},
   "source": [
    "### 9. Area Plots"
   ]
  },
  {
   "cell_type": "code",
   "execution_count": null,
   "metadata": {},
   "outputs": [],
   "source": [
    "# Area plot example\n",
    "area_data = pd.DataFrame({\n",
    "    'year': list(range(2000, 2020)),\n",
    "    'population': np.random.uniform(1000, 5000, 20) + np.arange(20) * 100,\n",
    "    'region': ['North'] * 20\n",
    "})\n",
    "\n",
    "plot9 = (\n",
    "    ggplot(area_data, aes(x='year', y='population'))\n",
    "    .geom_area(alpha=0.7, fill='lightgreen')\n",
    "    .theme_minimal()\n",
    "    .labs(\n",
    "        title='Population Growth Over Time',\n",
    "        x='Year',\n",
    "        y='Population'\n",
    "    )\n",
    ")\n",
    "\n",
    "plot9"
   ]
  },
  {
   "cell_type": "markdown",
   "metadata": {},
   "source": [
    "### 10. Fixed Aspect Ratio"
   ]
  },
  {
   "cell_type": "code",
   "execution_count": null,
   "metadata": {},
   "outputs": [],
   "source": [
    "# Plot with fixed aspect ratio (1:1)\n",
    "plot10 = (\n",
    "    ggplot(df, aes(x='height', y='weight', color='species'))\n",
    "    .geom_point(size=6, alpha=0.8)\n",
    "    .coord_fixed()\n",
    "    .theme_minimal()\n",
    "    .labs(title='Fixed Aspect Ratio (1:1)')\n",
    ")\n",
    "\n",
    "plot10"
   ]
  },
  {
   "cell_type": "markdown",
   "metadata": {},
   "source": [
    "### 11. Complex Multi-layer Plot"
   ]
  },
  {
   "cell_type": "code",
   "execution_count": null,
   "metadata": {},
   "outputs": [],
   "source": [
    "# Complex plot with multiple aesthetics and layers\n",
    "plot11 = (\n",
    "    ggplot(df, aes(x='height', y='weight'))\n",
    "    .geom_point(aes(color='species', size='age'), alpha=0.7)\n",
    "    .geom_smooth(method='lm', color='black', alpha=0.3)\n",
    "    .scale_colour_viridis_d()\n",
    "    .theme_minimal()\n",
    "    .labs(\n",
    "        title='Complex Multi-layer Plot',\n",
    "        subtitle='Points colored by species, sized by age, with trend line',\n",
    "        x='Height (cm)',\n",
    "        y='Weight (kg)',\n",
    "        color='Species',\n",
    "        size='Age'\n",
    "    )\n",
    ")\n",
    "\n",
    "plot11"
   ]
  },
  {
   "cell_type": "markdown",
   "metadata": {},
   "source": [
    "## Summary\n",
    "\n",
    "This notebook demonstrated the core features of ggviews:\n",
    "\n",
    "✅ **Grammar of Graphics**: Layered approach to building plots  \n",
    "✅ **Method Chaining**: Fluent API for building complex plots  \n",
    "✅ **Multiple Geoms**: Points, lines, bars, histograms, areas  \n",
    "✅ **Aesthetic Mappings**: Map data to visual properties  \n",
    "✅ **Themes**: Professional styling options  \n",
    "✅ **Scales**: Color mappings including viridis palettes  \n",
    "✅ **Faceting**: Create subplots easily  \n",
    "✅ **Coordinate Systems**: Control aspect ratios  \n",
    "✅ **Interactive**: Hover, zoom, pan capabilities via holoviews  \n",
    "\n",
    "ggviews brings the beloved ggplot2 syntax to Python with additional advantages:\n",
    "- **Interactive plots** by default\n",
    "- **Method chaining** for more Pythonic syntax\n",
    "- **Seamless integration** with pandas and Jupyter\n",
    "\n",
    "## Next Steps\n",
    "\n",
    "- Try modifying the examples with your own data\n",
    "- Explore additional themes and color scales\n",
    "- Experiment with different geom combinations\n",
    "- Check out the advanced examples for more complex visualizations\n",
    "\n",
    "Happy plotting! 📊✨"
   ]
  }
 ],
 "metadata": {
  "kernelspec": {
   "display_name": "Python 3",
   "language": "python",
   "name": "python3"
  },
  "language_info": {
   "codemirror_mode": {
    "name": "ipython",
    "version": 3
   },
   "file_extension": ".py",
   "mimetype": "text/x-python",
   "name": "python",
   "nbconvert_exporter": "python",
   "pygments_lexer": "ipython3",
   "version": "3.8.10"
  }
 },
 "nbformat": 4,
 "nbformat_minor": 4
}